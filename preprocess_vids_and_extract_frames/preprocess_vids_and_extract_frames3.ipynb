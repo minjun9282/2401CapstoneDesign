{
 "cells": [
  {
   "cell_type": "markdown",
   "id": "99dc81cd-5dbc-447a-8bdf-82e1ecf698ab",
   "metadata": {},
   "source": [
    "!pip install librosa"
   ]
  },
  {
   "cell_type": "markdown",
   "id": "d5d425a8-a75e-424c-8273-ab611ae0b344",
   "metadata": {},
   "source": [
    "!pip install demucs"
   ]
  },
  {
   "cell_type": "markdown",
   "id": "83d8ebe4-44c1-4fed-b410-d07680ac015b",
   "metadata": {},
   "source": [
    "!pip install diffq"
   ]
  },
  {
   "cell_type": "code",
   "execution_count": null,
   "id": "786b3169",
   "metadata": {},
   "outputs": [],
   "source": [
    "import os\n",
    "import shutil\n",
    "from moviepy.editor import VideoFileClip\n",
    "\n",
    "#비디오를 길이가 짧은 순서대로 정렬한 후 '1.mp4', '2.mp4' ... 이름으로 다시 저장하고 각 비디오의 오디오 트랙을 1.wav, 2.wav...로 추출하여 저장하는 함수\n",
    "def sort_videos_by_length_and_extract_audio(input_folder, output_audio_folder, output_video_folder):\n",
    "    # input_folder에서 비디오 파일 리스트 가져오기\n",
    "    video_files = [f for f in os.listdir(input_folder) if f.endswith(('.mp4', '.avi', '.mov'))]\n",
    "    video_paths = [os.path.join(input_folder, f) for f in video_files]\n",
    "    \n",
    "    # 비디오 파일마다 길이 저장\n",
    "    video_lengths = []\n",
    "    for video_path in video_paths:\n",
    "        with VideoFileClip(video_path) as video:\n",
    "            video_length = video.duration\n",
    "        video_lengths.append((video_path, video_length))\n",
    "    \n",
    "    # 비디오 길이에 따라 정렬\n",
    "    sorted_videos = sorted(video_lengths, key=lambda x: x[1])\n",
    "    \n",
    "    # 정렬된 순서대로 파일 복사 및 이름 변경, 오디오 추출\n",
    "    for i, (video_path, _) in enumerate(sorted_videos, start=1):\n",
    "        # 새로운 파일 이름 설정\n",
    "        new_video_name = f\"{i}{os.path.splitext(video_path)[1]}\"\n",
    "        \n",
    "        # 원본 비디오 파일을 새 위치로 복사\n",
    "        new_video_path = os.path.join(output_video_folder, new_video_name)\n",
    "        shutil.copy(video_path, new_video_path)\n",
    "        \n",
    "        # 오디오 추출\n",
    "        with VideoFileClip(new_video_path) as video:\n",
    "            audio_path = os.path.join(output_audio_folder, f\"{i}.wav\")\n",
    "            video.audio.write_audiofile(audio_path)"
   ]
  },
  {
   "cell_type": "code",
   "execution_count": null,
   "id": "800a20d1-983b-44ab-adc6-349e8bbbf10c",
   "metadata": {},
   "outputs": [],
   "source": [
    "import librosa\n",
    "\n",
    "def find_last_end_point(audio_path, threshold_diff=0.005, threshold_energy=-40):\n",
    "    # 음악 파일 로드\n",
    "    y, sr = librosa.load(audio_path)\n",
    "\n",
    "    # 하모닉/퍼커시브 분리\n",
    "    y_harmonic, y_percussive = librosa.effects.hpss(y)\n",
    "\n",
    "    # 퍼커시브 부분의 스펙트로그램 생성\n",
    "    D_percussive = librosa.stft(y_percussive)\n",
    "\n",
    "    # 복소수 스펙트로그램을 실수로 변환\n",
    "    D_percussive_magnitude = np.abs(D_percussive)\n",
    "\n",
    "    # 스펙트럼의 변화 계산\n",
    "    spectral_diff_percussive = np.abs(librosa.feature.delta(D_percussive_magnitude))\n",
    "\n",
    "    # 에너지 계산\n",
    "    energy = np.sum(librosa.amplitude_to_db(D_percussive_magnitude, ref=np.max), axis=0)\n",
    "\n",
    "    # 변화가 급격한 부분 탐색\n",
    "    end_points = []\n",
    "    for i in range(1, spectral_diff_percussive.shape[1]):\n",
    "        if spectral_diff_percussive[0, i-1] - spectral_diff_percussive[0, i] > threshold_diff and energy[i] < threshold_energy:\n",
    "            end_point_sec = librosa.frames_to_time(i, sr=sr)\n",
    "            end_points.append(end_point_sec)\n",
    "\n",
    "    # 마지막 끝점을 반환\n",
    "    return end_points[-1] + 2 #2초 더해준건 경험에 의함."
   ]
  },
  {
   "cell_type": "code",
   "execution_count": null,
   "id": "df454f67-b129-485f-9ca4-dff3820760bc",
   "metadata": {},
   "outputs": [],
   "source": [
    "from scipy.io import wavfile\n",
    "\n",
    "def trim_audio_files(output_audio_folder, music_length):\n",
    "    # 오디오 파일 목록 가져오기\n",
    "    audio_files = [f for f in os.listdir(output_audio_folder) if f.endswith('.wav')]\n",
    "    audio_paths = [os.path.join(output_audio_folder, f) for f in audio_files]\n",
    "    \n",
    "    # 각 오디오 파일에 대해 지정된 길이만큼 자르기\n",
    "    for i, audio_path in enumerate(audio_paths):\n",
    "        # 오디오 파일 읽기\n",
    "        rate, audio_file = wavfile.read(audio_path)\n",
    "        \n",
    "        # 지정된 길이만큼 자르기 (밀리초를 샘플 수로 변환)\n",
    "        desired_length_samples = int(music_length * rate)\n",
    "        if desired_length_samples < len(audio_file):\n",
    "            trimmed_audio = audio_file[:desired_length_samples]\n",
    "        else:\n",
    "            trimmed_audio = audio_file\n",
    "        \n",
    "        # 결과 저장\n",
    "        output_path = os.path.join(output_audio_folder, os.path.basename(audio_path))\n",
    "        wavfile.write(output_path, rate, trimmed_audio)"
   ]
  },
  {
   "cell_type": "code",
   "execution_count": null,
   "id": "76eae77f-1400-4b76-ac37-144ea2c1c7dc",
   "metadata": {},
   "outputs": [],
   "source": [
    "import numpy as np\n",
    "from scipy.signal import correlate\n",
    "from scipy.io import wavfile\n",
    "import os\n",
    "\n",
    "#기준 영상과 비교 영상의 오디오 싱크를 맞췄을 때 비교 영상의 앞부분에서 얼만큼의 시간을 조정해야 하는지를 계산하는 함수\n",
    "def cal_adjustment_time(audio_path):\n",
    "    # audio_path 내의 모든 wav 파일 리스트 가져오기\n",
    "    audio_files = [f for f in os.listdir(audio_path) if f.endswith('.wav')]\n",
    "    audio_paths = [os.path.join(audio_path, f) for f in audio_files]\n",
    "\n",
    "    # 기준 영상 대비 비교 영상의 앞부분이 얼마만큼 밀려있는지를 저장하는 리스트\n",
    "    front_adjustment_lst = []\n",
    "\n",
    "    # 기준 영상의 길이 계산\n",
    "    _, base_audio = wavfile.read(audio_paths[0])\n",
    "    base_duration = len(base_audio) / 44100  # 기준 오디오 파일의 길이(초)\n",
    "\n",
    "    # audio_path 내의 모든 target audio 파일에 대해 adjusted_front_duration 계산\n",
    "    for audio_path in audio_paths[1:]:\n",
    "        rate, target_audio = wavfile.read(audio_path)\n",
    "        target_duration = len(target_audio) / rate  # target 오디오 파일의 길이(초)\n",
    "\n",
    "        base_waveform = base_audio  # 기준 무대 영상의 waveform\n",
    "        target_waveform = target_audio  # 비교할 무대 영상의 waveform\n",
    "\n",
    "        # waveform 정규화\n",
    "        base_waveform = base_waveform / np.max(np.abs(base_waveform))\n",
    "        target_waveform = target_waveform / np.max(np.abs(target_waveform))\n",
    "\n",
    "        # 상호 상관 함수 계산\n",
    "        correlation = correlate(target_waveform, base_waveform, mode='same')\n",
    "\n",
    "        # 상호 상관 함수에서 피크값 찾기\n",
    "        peak_index = np.argmax(correlation)\n",
    "\n",
    "        # base_audio와 target_audio간의 adjusted_front_duration 계산\n",
    "        adjusted_front_duration = ((peak_index - len(base_waveform)) // 2) / rate\n",
    "        front_adjustment_lst.append(adjusted_front_duration)\n",
    "\n",
    "    return front_adjustment_lst"
   ]
  },
  {
   "cell_type": "markdown",
   "id": "d7273ad6-ebf6-4372-bb7e-c311b17f416b",
   "metadata": {},
   "source": [
    "### CPU 병렬처리"
   ]
  },
  {
   "cell_type": "code",
   "execution_count": null,
   "id": "d1f08381-fdb8-424a-8c04-ba36320d10fa",
   "metadata": {},
   "outputs": [],
   "source": [
    "from trim_vids_and_extract_frames import trim_and_extract_frames_parallel\n",
    "\n",
    "# 폴더 경로 설정\n",
    "input_folder = 'input_videos'\n",
    "output_audios_folder = 'output_audios' #길이순으로 정렬된 영상에서 추출한 오디오 트랙들이 저장되는 폴더\n",
    "output_videos_folder = 'output_videos' #길이순으로 정렬된 영상이 새로운 이름으로 저장되는 폴더\n",
    "output_frames_folder = 'output_frames' # 추출한 프레임들이 저장될 폴더\n",
    "\n",
    "# 오디오 추출 및 오디오 길이에 따른 영상 정렬\n",
    "sort_videos_by_length_and_extract_audio(input_folder, output_audios_folder, output_videos_folder) #input_folder에 있는 영상들을 길이순으로 정렬하고 오디오 트랙 추출 및 이름 변경하여 새롭게 저장"
   ]
  },
  {
   "cell_type": "code",
   "execution_count": null,
   "id": "47b8b2ee-97f8-481b-a6db-bb7350825080",
   "metadata": {},
   "outputs": [],
   "source": [
    "!demucs --two-stems=vocals -n mdx_extra_q \"output_audios/1.wav\""
   ]
  },
  {
   "cell_type": "code",
   "execution_count": null,
   "id": "6b2ae754-0560-453b-96bf-46c1e9eea06c",
   "metadata": {},
   "outputs": [],
   "source": [
    "# 프레임 추출 특성 설정\n",
    "fps = 29.97 # 추출할 초당 프레임수 지정\n",
    "resize_size = (1920, 1080)  # 이미지 리사이즈 크기\n",
    "base_audio_path = 'separated/mdx_extra_q/1/no_vocals.wav'\n",
    "music_length = find_last_end_point(base_audio_path)\n",
    "trim_audio_files(output_audios_folder, music_length)\n",
    "\n",
    "#프레임 추출 실행\n",
    "front_adjustment_lst = cal_adjustment_time(output_audios_folder) #길이가 가장 짧은 무대 영상을 기준으로 했을 때 비교할 영상이 앞뒤로 얼마만큼 조정해야지를 계산\n",
    "trim_and_extract_frames_parallel(output_videos_folder, output_frames_folder, front_adjustment_lst, resize_size, music_length, fps) #비교 영상이 기준 영상과 길이가 같고 오디오 싱크가 맞도록 조정한 후 프레임을 추출하여 저장"
   ]
  }
 ],
 "metadata": {
  "kernelspec": {
   "display_name": "swcap",
   "language": "python",
   "name": "nanodet"
  },
  "language_info": {
   "codemirror_mode": {
    "name": "ipython",
    "version": 3
   },
   "file_extension": ".py",
   "mimetype": "text/x-python",
   "name": "python",
   "nbconvert_exporter": "python",
   "pygments_lexer": "ipython3",
   "version": "3.8.3"
  }
 },
 "nbformat": 4,
 "nbformat_minor": 5
}
